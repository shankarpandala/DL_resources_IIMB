{
  "nbformat": 4,
  "nbformat_minor": 0,
  "metadata": {
    "colab": {
      "name": "1_perceptron_or.ipynb",
      "version": "0.3.2",
      "provenance": [],
      "collapsed_sections": [],
      "toc_visible": true
    },
    "language_info": {
      "codemirror_mode": {
        "name": "ipython",
        "version": 3
      },
      "file_extension": ".py",
      "mimetype": "text/x-python",
      "name": "python",
      "nbconvert_exporter": "python",
      "pygments_lexer": "ipython3",
      "version": "3.6.8"
    },
    "kernelspec": {
      "display_name": "Python 3",
      "language": "python",
      "name": "python3"
    }
  },
  "cells": [
    {
      "cell_type": "markdown",
      "metadata": {
        "id": "CgsnOVippajW",
        "colab_type": "text"
      },
      "source": [
        "## Importing Libraries"
      ]
    },
    {
      "cell_type": "code",
      "metadata": {
        "id": "xpEXtyZ8pajX",
        "colab_type": "code",
        "colab": {}
      },
      "source": [
        "import numpy as np\n",
        "import matplotlib.pyplot as plt"
      ],
      "execution_count": 0,
      "outputs": []
    },
    {
      "cell_type": "markdown",
      "metadata": {
        "id": "z2cY24P7pajZ",
        "colab_type": "text"
      },
      "source": [
        "## Defining Input and Output"
      ]
    },
    {
      "cell_type": "code",
      "metadata": {
        "id": "VnT0444-pajZ",
        "colab_type": "code",
        "colab": {}
      },
      "source": [
        "num_inputs = 4\n",
        "dimension = 2"
      ],
      "execution_count": 0,
      "outputs": []
    },
    {
      "cell_type": "code",
      "metadata": {
        "id": "NIX1vf_Upajb",
        "colab_type": "code",
        "colab": {}
      },
      "source": [
        "input_array = np.array([\n",
        "    [0, 0],\n",
        "    [0, 1],\n",
        "    [1, 0],\n",
        "    [1, 1],\n",
        "])"
      ],
      "execution_count": 0,
      "outputs": []
    },
    {
      "cell_type": "code",
      "metadata": {
        "id": "eamigJDPpajd",
        "colab_type": "code",
        "colab": {}
      },
      "source": [
        "output_array = np.array([0, 1, 1, 1])"
      ],
      "execution_count": 0,
      "outputs": []
    },
    {
      "cell_type": "code",
      "metadata": {
        "id": "jTuNe5nwpaje",
        "colab_type": "code",
        "outputId": "e272dd36-bd53-4414-c909-19ec7d5646ff",
        "colab": {
          "base_uri": "https://localhost:8080/",
          "height": 34
        }
      },
      "source": [
        "# Bias Input\n",
        "bias = np.ones((num_inputs, 1))\n",
        "input_array.shape"
      ],
      "execution_count": 0,
      "outputs": [
        {
          "output_type": "execute_result",
          "data": {
            "text/plain": [
              "(4, 2)"
            ]
          },
          "metadata": {
            "tags": []
          },
          "execution_count": 5
        }
      ]
    },
    {
      "cell_type": "code",
      "metadata": {
        "id": "uGwVS27opaji",
        "colab_type": "code",
        "colab": {}
      },
      "source": [
        "input_bias = np.hstack((bias, input_array))"
      ],
      "execution_count": 0,
      "outputs": []
    },
    {
      "cell_type": "markdown",
      "metadata": {
        "id": "yNKb900ypajj",
        "colab_type": "text"
      },
      "source": [
        "## Model"
      ]
    },
    {
      "cell_type": "markdown",
      "metadata": {
        "id": "txHWZMw3pajk",
        "colab_type": "text"
      },
      "source": [
        "### Initializing weights"
      ]
    },
    {
      "cell_type": "code",
      "metadata": {
        "id": "IgH1-5J3pajl",
        "colab_type": "code",
        "colab": {}
      },
      "source": [
        "# randomly initialize the weights\n",
        "weight = np.random.randn(dimension + 1)"
      ],
      "execution_count": 0,
      "outputs": []
    },
    {
      "cell_type": "markdown",
      "metadata": {
        "id": "WqQuMDYDpajm",
        "colab_type": "text"
      },
      "source": [
        "### Defining output function"
      ]
    },
    {
      "cell_type": "code",
      "metadata": {
        "id": "hyIG3Fqypajn",
        "colab_type": "code",
        "colab": {}
      },
      "source": [
        "# calculate the model output\n",
        "model_output = input_bias.dot(weight)"
      ],
      "execution_count": 0,
      "outputs": []
    },
    {
      "cell_type": "code",
      "metadata": {
        "id": "RxobRcdppajp",
        "colab_type": "code",
        "colab": {}
      },
      "source": [
        "def sigmoid(model_output):\n",
        "    return 1/(1 + np.exp(-model_output))"
      ],
      "execution_count": 0,
      "outputs": []
    },
    {
      "cell_type": "code",
      "metadata": {
        "id": "ZJt9rR0Gpajq",
        "colab_type": "code",
        "colab": {}
      },
      "source": [
        "Y_pred = sigmoid(model_output)"
      ],
      "execution_count": 0,
      "outputs": []
    },
    {
      "cell_type": "markdown",
      "metadata": {
        "id": "-u_wCyEzpajs",
        "colab_type": "text"
      },
      "source": [
        "### Error Definition (Cross_Entropy)"
      ]
    },
    {
      "cell_type": "code",
      "metadata": {
        "id": "_nshFuYKpajt",
        "colab_type": "code",
        "colab": {}
      },
      "source": [
        "# cross-entropy error\n",
        "def cross_entropy(actual, prediction):\n",
        "    E = 0\n",
        "    for i in range(num_inputs):\n",
        "        if actual[i] == 1:\n",
        "            E -= np.log(prediction[i])\n",
        "        else:\n",
        "            E -= np.log(1 - prediction[i])\n",
        "    return E"
      ],
      "execution_count": 0,
      "outputs": []
    },
    {
      "cell_type": "markdown",
      "metadata": {
        "id": "5hzXiDslpaju",
        "colab_type": "text"
      },
      "source": [
        "### Learning - Gradient Descent"
      ]
    },
    {
      "cell_type": "code",
      "metadata": {
        "id": "HqcPfQSapajv",
        "colab_type": "code",
        "colab": {}
      },
      "source": [
        "learning_rate = 0.01\n",
        "error_array = []"
      ],
      "execution_count": 0,
      "outputs": []
    },
    {
      "cell_type": "code",
      "metadata": {
        "id": "DN8dzZcGpajw",
        "colab_type": "code",
        "outputId": "6f6f48b7-74b9-4bc6-a2ab-17dbab422cd3",
        "colab": {
          "base_uri": "https://localhost:8080/",
          "height": 1717
        }
      },
      "source": [
        "for i in range(10000):\n",
        "    error = cross_entropy(output_array, Y_pred)\n",
        "    error_array.append(error)\n",
        "    if i % 100 == 0:\n",
        "        print(error)\n",
        "\n",
        "    # gradient descent weight udpate\n",
        "    weight += learning_rate * ( input_bias.T.dot(output_array - Y_pred) )\n",
        "\n",
        "    Y_pred = sigmoid(input_bias.dot(weight))"
      ],
      "execution_count": 0,
      "outputs": [
        {
          "output_type": "stream",
          "text": [
            "4.699191169310872\n",
            "2.1767129662055114\n",
            "1.790653123958978\n",
            "1.568999875078378\n",
            "1.39633560143731\n",
            "1.2547317338805168\n",
            "1.1368033854269688\n",
            "1.0375240953955231\n",
            "0.953073008267098\n",
            "0.8805128110523035\n",
            "0.8175838160349211\n",
            "0.7625400195460731\n",
            "0.7140213633631162\n",
            "0.6709576085662367\n",
            "0.6324973321081254\n",
            "0.5979557716930595\n",
            "0.5667764225520509\n",
            "0.5385025633218734\n",
            "0.5127559466908422\n",
            "0.4892206857389398\n",
            "0.46763093826220975\n",
            "0.4477613940104671\n",
            "0.4294198517480591\n",
            "0.41244137072855097\n",
            "0.39668362047222067\n",
            "0.3820231516317546\n",
            "0.3683523815647924\n",
            "0.3555771394465576\n",
            "0.343614653145383\n",
            "0.3323918876451156\n",
            "0.32184416530742477\n",
            "0.3119140136688313\n",
            "0.3025501981357028\n",
            "0.2937069058550996\n",
            "0.28534305390484943\n",
            "0.2774217002738662\n",
            "0.26990954026792596\n",
            "0.2627764742532233\n",
            "0.25599523524573475\n",
            "0.24954106692306707\n",
            "0.2433914442936322\n",
            "0.2375258305945106\n",
            "0.2319254650722043\n",
            "0.22657317718222447\n",
            "0.22145322346479532\n",
            "0.21655114394671943\n",
            "0.21185363540871546\n",
            "0.20734843926290897\n",
            "0.20302424212245426\n",
            "0.19887058742687228\n",
            "0.194877796722702\n",
            "0.19103689939750107\n",
            "0.18733956983264843\n",
            "0.18377807108208488\n",
            "0.18034520430438966\n",
            "0.17703426327797653\n",
            "0.17383899341660253\n",
            "0.17075355477719859\n",
            "0.16777248861625188\n",
            "0.16489068710621643\n",
            "0.16210336587108345\n",
            "0.15940603904144662\n",
            "0.1567944965650793\n",
            "0.154264783540057\n",
            "0.15181318136442437\n",
            "0.149436190519932\n",
            "0.14713051482792489\n",
            "0.1448930470334608\n",
            "0.14272085558951267\n",
            "0.140611172526997\n",
            "0.1385613823085566\n",
            "0.13656901157481222\n",
            "0.13463171970130064\n",
            "0.13274729009272251\n",
            "0.1309136221486012\n",
            "0.12912872384104257\n",
            "0.12739070485119788\n",
            "0.12569777021624037\n",
            "0.12404821444335634\n",
            "0.1224404160514046\n",
            "0.12087283250463367\n",
            "0.11934399550616583\n",
            "0.11785250662196252\n",
            "0.11639703320865777\n",
            "0.11497630462105761\n",
            "0.1135891086772734\n",
            "0.11223428836140902\n",
            "0.11091073874547962\n",
            "0.1096174041138394\n",
            "0.1083532752748186\n",
            "0.10711738704557974\n",
            "0.10590881589737904\n",
            "0.10472667774948376\n",
            "0.10357012590096652\n",
            "0.10243834909047872\n",
            "0.10133056967490431\n",
            "0.10024604191852562\n",
            "0.09918405038499156\n",
            "0.0981439084249944\n",
            "0.09712495675310177\n"
          ],
          "name": "stdout"
        }
      ]
    },
    {
      "cell_type": "markdown",
      "metadata": {
        "id": "4-GGk08hpajz",
        "colab_type": "text"
      },
      "source": [
        "### Model output plotting"
      ]
    },
    {
      "cell_type": "code",
      "metadata": {
        "id": "n3nvpeSJpajz",
        "colab_type": "code",
        "outputId": "f1b9856c-b5fc-41b1-916f-d9c634d69e87",
        "colab": {
          "base_uri": "https://localhost:8080/",
          "height": 281
        }
      },
      "source": [
        "plt.plot(error_array)\n",
        "plt.title(\"Cross-entropy Vs. Iteration\")\n",
        "plt.show()"
      ],
      "execution_count": 0,
      "outputs": [
        {
          "output_type": "display_data",
          "data": {
            "image/png": "[encoded data removed]",
            "text/plain": [
              "<Figure size 432x288 with 1 Axes>"
            ]
          },
          "metadata": {
            "tags": []
          }
        }
      ]
    },
    {
      "cell_type": "markdown",
      "metadata": {
        "id": "18XwaO6-paj1",
        "colab_type": "text"
      },
      "source": [
        "## Model Performance"
      ]
    },
    {
      "cell_type": "code",
      "metadata": {
        "id": "F9RqTbGnpaj2",
        "colab_type": "code",
        "outputId": "52fff6c7-cb72-4f69-f75f-0e22dedca362",
        "colab": {
          "base_uri": "https://localhost:8080/",
          "height": 51
        }
      },
      "source": [
        "print(\"Final weight:\", weight)\n",
        "print(\"Final classification rate:\", \n",
        "          1 - np.abs(output_array - np.round(Y_pred)).sum() / num_inputs)"
      ],
      "execution_count": 0,
      "outputs": [
        {
          "output_type": "stream",
          "text": [
            "Final weight: [-2.89385874  6.743223    6.73949357]\n",
            "Final classification rate: 1.0\n"
          ],
          "name": "stdout"
        }
      ]
    },
    {
      "cell_type": "code",
      "metadata": {
        "id": "EsHIBvzbpaj4",
        "colab_type": "code",
        "colab": {}
      },
      "source": [
        ""
      ],
      "execution_count": 0,
      "outputs": []
    }
  ]
}