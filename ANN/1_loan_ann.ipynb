{
  "nbformat": 4,
  "nbformat_minor": 0,
  "metadata": {
    "colab": {
      "name": "1_loan_ann.ipynb",
      "version": "0.3.2",
      "provenance": [],
      "collapsed_sections": [],
      "toc_visible": true
    },
    "language_info": {
      "codemirror_mode": {
        "name": "ipython",
        "version": 3
      },
      "file_extension": ".py",
      "mimetype": "text/x-python",
      "name": "python",
      "nbconvert_exporter": "python",
      "pygments_lexer": "ipython3",
      "version": "3.6.8"
    },
    "kernelspec": {
      "name": "python3",
      "display_name": "Python 3"
    },
    "accelerator": "GPU"
  },
  "cells": [
    {
      "cell_type": "code",
      "metadata": {
        "id": "B7Uqa8i9vwqU",
        "colab_type": "code",
        "colab": {}
      },
      "source": [
        "import numpy as np\n",
        "import matplotlib.pyplot as plt\n",
        "import pandas as pd"
      ],
      "execution_count": 0,
      "outputs": []
    },
    {
      "cell_type": "code",
      "metadata": {
        "id": "jEJcw857vwqW",
        "colab_type": "code",
        "colab": {}
      },
      "source": [
        "dataset = pd.read_csv('Loan_Application.csv')\n",
        "X = dataset.iloc[:, 1:11].values\n",
        "y = dataset.iloc[:, 11].values"
      ],
      "execution_count": 0,
      "outputs": []
    },
    {
      "cell_type": "code",
      "metadata": {
        "id": "QPushbEnvwqY",
        "colab_type": "code",
        "colab": {}
      },
      "source": [
        "# Label Encoding - categorical data\n",
        "from sklearn.preprocessing import LabelEncoder, OneHotEncoder\n",
        "\n",
        "labelencoder_X_1 = LabelEncoder()\n",
        "X[:, 1] = labelencoder_X_1.fit_transform(X[:, 1])\n",
        "labelencoder_X_2 = LabelEncoder()\n",
        "X[:, 2] = labelencoder_X_2.fit_transform(X[:, 2])"
      ],
      "execution_count": 0,
      "outputs": []
    },
    {
      "cell_type": "code",
      "metadata": {
        "id": "ALF7jgLjvwqZ",
        "colab_type": "code",
        "outputId": "cae5394e-edd9-4923-bd02-503bed41b5a4",
        "colab": {
          "base_uri": "https://localhost:8080/",
          "height": 139
        }
      },
      "source": [
        "# One hot encoding - Dummy Variables\n",
        "onehotencoder = OneHotEncoder(categorical_features = [1])\n",
        "X = onehotencoder.fit_transform(X).toarray()\n",
        "X = X[:, 1:]   # Removing the first variable"
      ],
      "execution_count": 0,
      "outputs": [
        {
          "output_type": "stream",
          "text": [
            "/usr/local/lib/python3.6/dist-packages/sklearn/preprocessing/_encoders.py:415: FutureWarning: The handling of integer data will change in version 0.22. Currently, the categories are determined based on the range [0, max(values)], while in the future they will be determined based on the unique values.\n",
            "If you want the future behaviour and silence this warning, you can specify \"categories='auto'\".\n",
            "In case you used a LabelEncoder before this OneHotEncoder to convert the categories to integers, then you can now use the OneHotEncoder directly.\n",
            "  warnings.warn(msg, FutureWarning)\n",
            "/usr/local/lib/python3.6/dist-packages/sklearn/preprocessing/_encoders.py:451: DeprecationWarning: The 'categorical_features' keyword is deprecated in version 0.20 and will be removed in 0.22. You can use the ColumnTransformer instead.\n",
            "  \"use the ColumnTransformer instead.\", DeprecationWarning)\n"
          ],
          "name": "stderr"
        }
      ]
    },
    {
      "cell_type": "code",
      "metadata": {
        "id": "GOueZzWCvwqb",
        "colab_type": "code",
        "colab": {}
      },
      "source": [
        "# Splitting the dataset into the Training set and Test set\n",
        "from sklearn.model_selection import train_test_split\n",
        "X_train, X_test, y_train, y_test = train_test_split(X, y, test_size = 0.2, random_state = 0)"
      ],
      "execution_count": 0,
      "outputs": []
    },
    {
      "cell_type": "code",
      "metadata": {
        "id": "uoUkPIhTvwqd",
        "colab_type": "code",
        "colab": {}
      },
      "source": [
        "# Feature Scaling\n",
        "from sklearn.preprocessing import StandardScaler\n",
        "sc = StandardScaler()\n",
        "X_train = sc.fit_transform(X_train)\n",
        "X_test = sc.transform(X_test)"
      ],
      "execution_count": 0,
      "outputs": []
    },
    {
      "cell_type": "markdown",
      "metadata": {
        "id": "aS8bT8uLvwqe",
        "colab_type": "text"
      },
      "source": [
        "### ANN\n"
      ]
    },
    {
      "cell_type": "code",
      "metadata": {
        "id": "op9iCGCQvwqf",
        "colab_type": "code",
        "colab": {}
      },
      "source": [
        "# Importing the Keras libraries and packages\n",
        "import keras\n",
        "from keras.models import Sequential\n",
        "from keras.layers import Dense\n",
        "from keras.layers import Dropout"
      ],
      "execution_count": 0,
      "outputs": []
    },
    {
      "cell_type": "code",
      "metadata": {
        "id": "mvP2IOyTvwqi",
        "colab_type": "code",
        "outputId": "26c1d7af-3c56-44f2-ac05-b5a1764436a8",
        "colab": {
          "base_uri": "https://localhost:8080/",
          "height": 51
        }
      },
      "source": [
        "# Initialising the ANN\n",
        "classifier = Sequential()\n",
        "\n",
        "# Adding the input layer and the first hidden layer\n",
        "classifier.add(Dense(output_dim = 6, activation = 'relu', input_dim = 11))"
      ],
      "execution_count": 0,
      "outputs": [
        {
          "output_type": "stream",
          "text": [
            "/usr/local/lib/python3.6/dist-packages/ipykernel_launcher.py:4: UserWarning: Update your `Dense` call to the Keras 2 API: `Dense(activation=\"relu\", input_dim=11, units=6)`\n",
            "  after removing the cwd from sys.path.\n"
          ],
          "name": "stderr"
        }
      ]
    },
    {
      "cell_type": "code",
      "metadata": {
        "id": "7tHyTkK-vwqk",
        "colab_type": "code",
        "colab": {}
      },
      "source": [
        "# Adding regularization\n",
        "#classifier.add(Dropout(p = 0.1))   "
      ],
      "execution_count": 0,
      "outputs": []
    },
    {
      "cell_type": "markdown",
      "metadata": {
        "id": "86RepUHqvwqm",
        "colab_type": "text"
      },
      "source": [
        "Dropout parameter of 0.1 means 10% of the neurons would be disabled at each iteration.\n",
        "If required, increase by 0.1 to improve the accuracy until 0.5.\n",
        "So, that means p = 1, means no neurons and that is under-fitting.\n",
        "In general, don't go over 0.5."
      ]
    },
    {
      "cell_type": "code",
      "metadata": {
        "id": "J5QxMdOAvwqm",
        "colab_type": "code",
        "outputId": "5e86bc0f-2de4-4351-ce15-aae77666db98",
        "colab": {
          "base_uri": "https://localhost:8080/",
          "height": 51
        }
      },
      "source": [
        "# Adding the second hidden layer\n",
        "classifier.add(Dense(output_dim = 6, activation = 'relu'))"
      ],
      "execution_count": 0,
      "outputs": [
        {
          "output_type": "stream",
          "text": [
            "/usr/local/lib/python3.6/dist-packages/ipykernel_launcher.py:1: UserWarning: Update your `Dense` call to the Keras 2 API: `Dense(activation=\"relu\", units=6, kernel_initializer=\"uniform\")`\n",
            "  \"\"\"Entry point for launching an IPython kernel.\n"
          ],
          "name": "stderr"
        }
      ]
    },
    {
      "cell_type": "code",
      "metadata": {
        "id": "TgCFO87rvwqp",
        "colab_type": "code",
        "colab": {}
      },
      "source": [
        "# Adding regularization\n",
        "# classifier.add(Dropout(p = 0.1))"
      ],
      "execution_count": 0,
      "outputs": []
    },
    {
      "cell_type": "code",
      "metadata": {
        "id": "-iYr2qtGvwqq",
        "colab_type": "code",
        "outputId": "688b8117-b4e9-40a4-f282-e6626bbf654c",
        "colab": {
          "base_uri": "https://localhost:8080/",
          "height": 71
        }
      },
      "source": [
        "# Adding the output layer\n",
        "classifier.add(Dense(output_dim = 1, activation = 'sigmoid'))"
      ],
      "execution_count": 0,
      "outputs": [
        {
          "output_type": "stream",
          "text": [
            "/usr/local/lib/python3.6/dist-packages/ipykernel_launcher.py:1: UserWarning: Update your `Dense` call to the Keras 2 API: `Dense(activation=\"sigmoid\", units=1, kernel_initializer=\"uniform\")`\n",
            "  \"\"\"Entry point for launching an IPython kernel.\n"
          ],
          "name": "stderr"
        }
      ]
    },
    {
      "cell_type": "code",
      "metadata": {
        "id": "gwohSC20wThm",
        "colab_type": "code",
        "outputId": "ae1fb6fe-1459-4520-eefd-488d4a2411a6",
        "colab": {
          "base_uri": "https://localhost:8080/",
          "height": 156
        }
      },
      "source": [
        "# Compiling the ANN\n",
        "classifier.compile(optimizer = 'adam', loss = 'binary_crossentropy', metrics = ['accuracy'])"
      ],
      "execution_count": 0,
      "outputs": [
        {
          "output_type": "stream",
          "text": [
            "W0614 16:11:09.508437 139756739827584 deprecation_wrapper.py:119] From /usr/local/lib/python3.6/dist-packages/keras/optimizers.py:790: The name tf.train.Optimizer is deprecated. Please use tf.compat.v1.train.Optimizer instead.\n",
            "\n",
            "W0614 16:11:09.677411 139756739827584 deprecation_wrapper.py:119] From /usr/local/lib/python3.6/dist-packages/keras/backend/tensorflow_backend.py:3376: The name tf.log is deprecated. Please use tf.math.log instead.\n",
            "\n",
            "W0614 16:11:09.687087 139756739827584 deprecation.py:323] From /usr/local/lib/python3.6/dist-packages/tensorflow/python/ops/nn_impl.py:180: add_dispatch_support.<locals>.wrapper (from tensorflow.python.ops.array_ops) is deprecated and will be removed in a future version.\n",
            "Instructions for updating:\n",
            "Use tf.where in 2.0, which has the same broadcast rule as np.where\n"
          ],
          "name": "stderr"
        }
      ]
    },
    {
      "cell_type": "code",
      "metadata": {
        "id": "wlZIZ-tpvwqs",
        "colab_type": "code",
        "outputId": "0fed7e15-ed33-4a48-e971-1a120f37b436",
        "colab": {
          "base_uri": "https://localhost:8080/",
          "height": 221
        }
      },
      "source": [
        "# Fitting the ANN to the Training set\n",
        "\n",
        "#classifier.fit(X_train, y_train, batch_size = 10, nb_epoch = 5)\n",
        "\n",
        "classifier.fit(X_train, y_train, batch_size = 10, epochs = 5, validation_data=(X_test, y_test))"
      ],
      "execution_count": 0,
      "outputs": [
        {
          "output_type": "stream",
          "text": [
            "Train on 8000 samples, validate on 2000 samples\n",
            "Epoch 1/5\n",
            "8000/8000 [==============================] - 1s 130us/step - loss: 0.4078 - acc: 0.8292 - val_loss: 0.4064 - val_acc: 0.8400\n",
            "Epoch 2/5\n",
            "8000/8000 [==============================] - 1s 130us/step - loss: 0.4065 - acc: 0.8314 - val_loss: 0.4027 - val_acc: 0.8410\n",
            "Epoch 3/5\n",
            "8000/8000 [==============================] - 1s 129us/step - loss: 0.4046 - acc: 0.8332 - val_loss: 0.4031 - val_acc: 0.8415\n",
            "Epoch 4/5\n",
            "8000/8000 [==============================] - 1s 129us/step - loss: 0.4033 - acc: 0.8342 - val_loss: 0.3996 - val_acc: 0.8440\n",
            "Epoch 5/5\n",
            "8000/8000 [==============================] - 1s 129us/step - loss: 0.4017 - acc: 0.8340 - val_loss: 0.3982 - val_acc: 0.8415\n"
          ],
          "name": "stdout"
        },
        {
          "output_type": "execute_result",
          "data": {
            "text/plain": [
              "<keras.callbacks.History at 0x7f1b665ee860>"
            ]
          },
          "metadata": {
            "tags": []
          },
          "execution_count": 17
        }
      ]
    },
    {
      "cell_type": "code",
      "metadata": {
        "id": "0ZbNqahIvwqv",
        "colab_type": "code",
        "colab": {}
      },
      "source": [
        "# Predicting the Test set results\n",
        "y_pred = classifier.predict(X_test)\n",
        "y_pred = (y_pred > 0.5)"
      ],
      "execution_count": 0,
      "outputs": []
    },
    {
      "cell_type": "code",
      "metadata": {
        "id": "5OnD1OfVvwqw",
        "colab_type": "code",
        "outputId": "f51f7293-17a0-4eb8-e1be-f2ec60711729",
        "colab": {
          "base_uri": "https://localhost:8080/",
          "height": 51
        }
      },
      "source": [
        "# Making the Confusion Matrix\n",
        "from sklearn.metrics import confusion_matrix\n",
        "cm = confusion_matrix(y_test, y_pred)\n",
        "cm"
      ],
      "execution_count": 0,
      "outputs": [
        {
          "output_type": "execute_result",
          "data": {
            "text/plain": [
              "array([[1552,   43],\n",
              "       [ 274,  131]])"
            ]
          },
          "metadata": {
            "tags": []
          },
          "execution_count": 19
        }
      ]
    },
    {
      "cell_type": "code",
      "metadata": {
        "id": "hqFCw-56vwqz",
        "colab_type": "code",
        "outputId": "829b6b8d-5ee3-420a-f419-f3a2132e6bb3",
        "colab": {
          "base_uri": "https://localhost:8080/",
          "height": 34
        }
      },
      "source": [
        "accuracy = (cm[0][0] + cm[1][1]) / (cm[0][0] + cm[1][0] + cm[1][1] + cm[0][1])\n",
        "accuracy"
      ],
      "execution_count": 0,
      "outputs": [
        {
          "output_type": "execute_result",
          "data": {
            "text/plain": [
              "0.8415"
            ]
          },
          "metadata": {
            "tags": []
          },
          "execution_count": 20
        }
      ]
    },
    {
      "cell_type": "code",
      "metadata": {
        "id": "b5mzOnIKvwq2",
        "colab_type": "code",
        "colab": {}
      },
      "source": [
        "from keras.wrappers.scikit_learn import KerasClassifier\n",
        "from sklearn.model_selection import GridSearchCV\n",
        "from keras.models import Sequential\n",
        "from keras.layers import Dense\n",
        "\n",
        "def build_classifier(optimizer):\n",
        "    classifier = Sequential()\n",
        " \n",
        "    classifier.add(Dense(units = 15, activation = 'relu', input_dim = 11))\n",
        "    classifier.add(Dense(units = 10, activation = 'relu'))\n",
        "    #classifier.add(Dropout(p = 0.1))\n",
        "    classifier.add(Dense(units = 1, activation = 'sigmoid'))\n",
        "    #classifier.add(Dropout(p = 0.1))    \n",
        "    classifier.compile(optimizer = 'adam', loss = 'binary_crossentropy', metrics = ['accuracy']) \n",
        "    return classifier\n",
        "    \n",
        "classifier = KerasClassifier(build_fn = build_classifier)\n",
        "\n",
        "parameters = {'batch_size': [100, 300],\n",
        "              #'epochs': [100, 500],\n",
        "              'epochs': [2, 3],\n",
        "              'optimizer': ['adam', 'rmsprop']}\n",
        "\n",
        "grid_search = GridSearchCV(estimator = classifier,\n",
        "                           param_grid = parameters,\n",
        "                           scoring = 'accuracy',\n",
        "                            cv=2) #10 "
      ],
      "execution_count": 0,
      "outputs": []
    },
    {
      "cell_type": "code",
      "metadata": {
        "id": "KCznOUWpvwq3",
        "colab_type": "code",
        "outputId": "aaf37f2b-cc51-4297-c407-4c0af34ce718",
        "colab": {
          "base_uri": "https://localhost:8080/",
          "height": 1479
        }
      },
      "source": [
        "grid_search = grid_search.fit(X_train, y_train)"
      ],
      "execution_count": 0,
      "outputs": [
        {
          "output_type": "stream",
          "text": [
            "Epoch 1/2\n",
            "4000/4000 [==============================] - 3s 721us/step - loss: 0.6219 - acc: 0.7192\n",
            "Epoch 2/2\n",
            "4000/4000 [==============================] - 0s 41us/step - loss: 0.5410 - acc: 0.7860\n",
            "Epoch 1/2\n",
            "4000/4000 [==============================] - 3s 691us/step - loss: 0.6677 - acc: 0.5802\n",
            "Epoch 2/2\n",
            "4000/4000 [==============================] - 0s 40us/step - loss: 0.5281 - acc: 0.7770\n",
            "Epoch 1/2\n",
            "4000/4000 [==============================] - 3s 705us/step - loss: 0.5564 - acc: 0.7968\n",
            "Epoch 2/2\n",
            "4000/4000 [==============================] - 0s 42us/step - loss: 0.5149 - acc: 0.7970\n",
            "Epoch 1/2\n",
            "4000/4000 [==============================] - 3s 718us/step - loss: 0.8544 - acc: 0.2860\n",
            "Epoch 2/2\n",
            "4000/4000 [==============================] - 0s 42us/step - loss: 0.6773 - acc: 0.5617\n",
            "Epoch 1/3\n",
            "4000/4000 [==============================] - 3s 755us/step - loss: 0.5502 - acc: 0.7887\n",
            "Epoch 2/3\n",
            "4000/4000 [==============================] - 0s 45us/step - loss: 0.4984 - acc: 0.7970\n",
            "Epoch 3/3\n",
            "4000/4000 [==============================] - 0s 45us/step - loss: 0.4718 - acc: 0.7970\n",
            "Epoch 1/3\n",
            "4000/4000 [==============================] - 3s 763us/step - loss: 0.6462 - acc: 0.6460\n",
            "Epoch 2/3\n",
            "4000/4000 [==============================] - 0s 40us/step - loss: 0.5634 - acc: 0.7845\n",
            "Epoch 3/3\n",
            "4000/4000 [==============================] - 0s 45us/step - loss: 0.5166 - acc: 0.7950\n",
            "Epoch 1/3\n",
            "4000/4000 [==============================] - 3s 768us/step - loss: 0.5461 - acc: 0.7775\n",
            "Epoch 2/3\n",
            "4000/4000 [==============================] - 0s 40us/step - loss: 0.4973 - acc: 0.7970\n",
            "Epoch 3/3\n",
            "4000/4000 [==============================] - 0s 44us/step - loss: 0.4725 - acc: 0.7978\n",
            "Epoch 1/3\n",
            "4000/4000 [==============================] - 3s 792us/step - loss: 0.7847 - acc: 0.3628\n",
            "Epoch 2/3\n",
            "4000/4000 [==============================] - 0s 40us/step - loss: 0.6163 - acc: 0.6807\n",
            "Epoch 3/3\n",
            "4000/4000 [==============================] - 0s 43us/step - loss: 0.5367 - acc: 0.7927\n",
            "Epoch 1/2\n",
            "4000/4000 [==============================] - 3s 781us/step - loss: 0.5186 - acc: 0.7960\n",
            "Epoch 2/2\n",
            "4000/4000 [==============================] - 0s 14us/step - loss: 0.4979 - acc: 0.7962\n",
            "Epoch 1/2\n",
            "4000/4000 [==============================] - 3s 801us/step - loss: 0.6386 - acc: 0.6843\n",
            "Epoch 2/2\n",
            "4000/4000 [==============================] - 0s 17us/step - loss: 0.5928 - acc: 0.7660\n",
            "Epoch 1/2\n",
            "4000/4000 [==============================] - 3s 821us/step - loss: 0.9634 - acc: 0.3022\n",
            "Epoch 2/2\n",
            "4000/4000 [==============================] - 0s 15us/step - loss: 0.8342 - acc: 0.4170\n",
            "Epoch 1/2\n",
            "4000/4000 [==============================] - 3s 840us/step - loss: 0.5526 - acc: 0.7895\n",
            "Epoch 2/2\n",
            "4000/4000 [==============================] - 0s 15us/step - loss: 0.5275 - acc: 0.7950\n",
            "Epoch 1/3\n",
            "4000/4000 [==============================] - 3s 837us/step - loss: 0.6243 - acc: 0.7050\n",
            "Epoch 2/3\n",
            "4000/4000 [==============================] - 0s 15us/step - loss: 0.5800 - acc: 0.7670\n",
            "Epoch 3/3\n",
            "4000/4000 [==============================] - 0s 16us/step - loss: 0.5500 - acc: 0.7925\n",
            "Epoch 1/3\n",
            "4000/4000 [==============================] - 3s 867us/step - loss: 0.5652 - acc: 0.7793\n",
            "Epoch 2/3\n",
            "4000/4000 [==============================] - 0s 16us/step - loss: 0.5350 - acc: 0.7903\n",
            "Epoch 3/3\n",
            "4000/4000 [==============================] - 0s 16us/step - loss: 0.5113 - acc: 0.7938\n",
            "Epoch 1/3\n",
            "4000/4000 [==============================] - 4s 889us/step - loss: 0.8003 - acc: 0.3438\n",
            "Epoch 2/3\n",
            "4000/4000 [==============================] - 0s 19us/step - loss: 0.7158 - acc: 0.4820\n",
            "Epoch 3/3\n",
            "4000/4000 [==============================] - 0s 16us/step - loss: 0.6529 - acc: 0.6090\n",
            "Epoch 1/3\n",
            "4000/4000 [==============================] - 4s 908us/step - loss: 0.6783 - acc: 0.6063\n",
            "Epoch 2/3\n",
            "4000/4000 [==============================] - 0s 17us/step - loss: 0.6139 - acc: 0.7170\n",
            "Epoch 3/3\n",
            "4000/4000 [==============================] - 0s 17us/step - loss: 0.5696 - acc: 0.7663\n",
            "Epoch 1/3\n",
            "8000/8000 [==============================] - 4s 495us/step - loss: 0.5894 - acc: 0.7517\n",
            "Epoch 2/3\n",
            "8000/8000 [==============================] - 0s 45us/step - loss: 0.5106 - acc: 0.7969\n",
            "Epoch 3/3\n",
            "8000/8000 [==============================] - 0s 44us/step - loss: 0.4672 - acc: 0.8070\n"
          ],
          "name": "stdout"
        }
      ]
    },
    {
      "cell_type": "code",
      "metadata": {
        "id": "Lal2JZGWvwq7",
        "colab_type": "code",
        "outputId": "10c6a8f0-3779-478a-9d29-c79f7b4a4d56",
        "colab": {
          "base_uri": "https://localhost:8080/",
          "height": 51
        }
      },
      "source": [
        "best_parameters = grid_search.best_params_  \n",
        "best_accuracy = grid_search.best_score_ \n",
        "\n",
        "print('best_parameters: ', best_parameters)\n",
        "print('best accuracy: ', best_accuracy)"
      ],
      "execution_count": 0,
      "outputs": [
        {
          "output_type": "stream",
          "text": [
            "best_parameters:  {'batch_size': 100, 'epochs': 3, 'optimizer': 'rmsprop'}\n",
            "best accuracy:  0.799125\n"
          ],
          "name": "stdout"
        }
      ]
    }
  ]
}