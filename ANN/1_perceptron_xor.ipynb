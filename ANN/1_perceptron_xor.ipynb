{
  "nbformat": 4,
  "nbformat_minor": 0,
  "metadata": {
    "colab": {
      "name": "1_perceptron_xor.ipynb",
      "version": "0.3.2",
      "provenance": [],
      "collapsed_sections": [],
      "toc_visible": true
    },
    "language_info": {
      "codemirror_mode": {
        "name": "ipython",
        "version": 3
      },
      "file_extension": ".py",
      "mimetype": "text/x-python",
      "name": "python",
      "nbconvert_exporter": "python",
      "pygments_lexer": "ipython3",
      "version": "3.6.8"
    },
    "kernelspec": {
      "display_name": "Python 3",
      "language": "python",
      "name": "python3"
    }
  },
  "cells": [
    {
      "cell_type": "markdown",
      "metadata": {
        "id": "aXu2CCALptAO",
        "colab_type": "text"
      },
      "source": [
        "## Importing Libraries"
      ]
    },
    {
      "cell_type": "code",
      "metadata": {
        "id": "L1BJ7xNxptAP",
        "colab_type": "code",
        "colab": {}
      },
      "source": [
        "import numpy as np\n",
        "import matplotlib.pyplot as plt"
      ],
      "execution_count": 0,
      "outputs": []
    },
    {
      "cell_type": "markdown",
      "metadata": {
        "id": "9DAPhk1NptAT",
        "colab_type": "text"
      },
      "source": [
        "## Defining Input and Output"
      ]
    },
    {
      "cell_type": "code",
      "metadata": {
        "id": "0iBqJEbaptAU",
        "colab_type": "code",
        "colab": {}
      },
      "source": [
        "num_inputs = 4\n",
        "dimension = 2"
      ],
      "execution_count": 0,
      "outputs": []
    },
    {
      "cell_type": "code",
      "metadata": {
        "id": "IANSQeBTptAW",
        "colab_type": "code",
        "outputId": "339ed7f5-681a-4c4a-a008-867fc2873e2e",
        "colab": {
          "base_uri": "https://localhost:8080/",
          "height": 85
        }
      },
      "source": [
        "input_array = np.array([\n",
        "    [0, 0],\n",
        "    [0, 1],\n",
        "    [1, 0],\n",
        "    [1, 1],\n",
        "])\n",
        "\n",
        "input_array"
      ],
      "execution_count": 0,
      "outputs": [
        {
          "output_type": "execute_result",
          "data": {
            "text/plain": [
              "array([[0, 0],\n",
              "       [0, 1],\n",
              "       [1, 0],\n",
              "       [1, 1]])"
            ]
          },
          "metadata": {
            "tags": []
          },
          "execution_count": 17
        }
      ]
    },
    {
      "cell_type": "code",
      "metadata": {
        "id": "t2zAlTj1ptAa",
        "colab_type": "code",
        "colab": {}
      },
      "source": [
        "output_array = np.array([0, 1, 1, 0])"
      ],
      "execution_count": 0,
      "outputs": []
    },
    {
      "cell_type": "code",
      "metadata": {
        "id": "d1DlBQjZptAc",
        "colab_type": "code",
        "outputId": "2cf9e48c-9232-48e9-f338-8e6f77a1d46a",
        "colab": {
          "base_uri": "https://localhost:8080/",
          "height": 34
        }
      },
      "source": [
        "# Bias Input\n",
        "bias = np.ones((num_inputs, 1))\n",
        "input_array.shape"
      ],
      "execution_count": 0,
      "outputs": [
        {
          "output_type": "execute_result",
          "data": {
            "text/plain": [
              "(4, 2)"
            ]
          },
          "metadata": {
            "tags": []
          },
          "execution_count": 18
        }
      ]
    },
    {
      "cell_type": "code",
      "metadata": {
        "id": "Gm6_oyCIptAf",
        "colab_type": "code",
        "outputId": "ab2aa7f2-2aa4-4a31-af53-6b26f142b998",
        "colab": {
          "base_uri": "https://localhost:8080/",
          "height": 85
        }
      },
      "source": [
        "var_mul = (input_array[:,0] * input_array[:,1]).reshape(num_inputs, 1)\n",
        "input_bias = np.hstack((bias, input_array))\n",
        "#input_bias = np.hstack((bias, var_mul, input_array))\n",
        "\n",
        "input_bias"
      ],
      "execution_count": 0,
      "outputs": [
        {
          "output_type": "execute_result",
          "data": {
            "text/plain": [
              "array([[1., 0., 0.],\n",
              "       [1., 0., 1.],\n",
              "       [1., 1., 0.],\n",
              "       [1., 1., 1.]])"
            ]
          },
          "metadata": {
            "tags": []
          },
          "execution_count": 20
        }
      ]
    },
    {
      "cell_type": "markdown",
      "metadata": {
        "id": "zg9fqOBmptAh",
        "colab_type": "text"
      },
      "source": [
        "## Model"
      ]
    },
    {
      "cell_type": "markdown",
      "metadata": {
        "id": "TzpC2byxptAi",
        "colab_type": "text"
      },
      "source": [
        "### Initialising weights"
      ]
    },
    {
      "cell_type": "code",
      "metadata": {
        "id": "ZYc_DKWcptAi",
        "colab_type": "code",
        "colab": {}
      },
      "source": [
        "# randomly initialize the weights\n",
        "\n",
        "weight = np.random.randn(dimension + 1)\n",
        "#weight = np.random.randn(dimension + 2)"
      ],
      "execution_count": 0,
      "outputs": []
    },
    {
      "cell_type": "markdown",
      "metadata": {
        "id": "Pgu5HV_BptAk",
        "colab_type": "text"
      },
      "source": [
        "### Defining output function"
      ]
    },
    {
      "cell_type": "code",
      "metadata": {
        "id": "i8W7eP7yptAk",
        "colab_type": "code",
        "colab": {}
      },
      "source": [
        "# calculate the model output\n",
        "model_output = input_bias.dot(weight)"
      ],
      "execution_count": 0,
      "outputs": []
    },
    {
      "cell_type": "code",
      "metadata": {
        "id": "JbiFIlYcptAn",
        "colab_type": "code",
        "colab": {}
      },
      "source": [
        "def sigmoid(model_output):\n",
        "    return 1/(1 + np.exp(-model_output))"
      ],
      "execution_count": 0,
      "outputs": []
    },
    {
      "cell_type": "code",
      "metadata": {
        "id": "DrsYlLzfptAo",
        "colab_type": "code",
        "colab": {}
      },
      "source": [
        "Y_pred = sigmoid(model_output)"
      ],
      "execution_count": 0,
      "outputs": []
    },
    {
      "cell_type": "markdown",
      "metadata": {
        "id": "RkjaEQ6GptAq",
        "colab_type": "text"
      },
      "source": [
        "### Error Definition (Cross_Entropy)"
      ]
    },
    {
      "cell_type": "code",
      "metadata": {
        "id": "2eahTQr4ptAr",
        "colab_type": "code",
        "colab": {}
      },
      "source": [
        "# cross-entropy error\n",
        "def cross_entropy(actual, prediction):\n",
        "    E = 0\n",
        "    for i in range(num_inputs):\n",
        "        if actual[i] == 1:\n",
        "            E -= np.log(prediction[i])\n",
        "        else:\n",
        "            E -= np.log(1 - prediction[i])\n",
        "    return E"
      ],
      "execution_count": 0,
      "outputs": []
    },
    {
      "cell_type": "markdown",
      "metadata": {
        "id": "BtbCcAMsptAs",
        "colab_type": "text"
      },
      "source": [
        "### Learning - Gradient Descent"
      ]
    },
    {
      "cell_type": "code",
      "metadata": {
        "id": "nluCTaE_ptAt",
        "colab_type": "code",
        "colab": {}
      },
      "source": [
        "# Gradient Descent\n",
        "learning_rate = 0.01\n",
        "error_array = []"
      ],
      "execution_count": 0,
      "outputs": []
    },
    {
      "cell_type": "code",
      "metadata": {
        "id": "vhqQcr8gptAu",
        "colab_type": "code",
        "outputId": "59a90636-29ae-43e0-f601-c624e614ce53",
        "colab": {
          "base_uri": "https://localhost:8080/",
          "height": 1717
        }
      },
      "source": [
        "for i in range(10000):\n",
        "    error = cross_entropy(output_array, Y_pred)\n",
        "    error_array.append(error)\n",
        "    if i % 100 == 0:\n",
        "        print(error)\n",
        "\n",
        "    # gradient descent weight udpate\n",
        "    weight += learning_rate * ( input_bias.T.dot(output_array - Y_pred) )\n",
        "\n",
        "    Y_pred = sigmoid(input_bias.dot(weight))"
      ],
      "execution_count": 0,
      "outputs": [
        {
          "output_type": "stream",
          "text": [
            "5.08744043458076\n",
            "3.1859714295947548\n",
            "2.953570456278645\n",
            "2.8901097869290693\n",
            "2.852442995208356\n",
            "2.8272987853077733\n",
            "2.8102995277997116\n",
            "2.798741435892964\n",
            "2.7908351509161786\n",
            "2.7853919185715568\n",
            "2.78162008881331\n",
            "2.77899006344432\n",
            "2.777145417462675\n",
            "2.775844635540248\n",
            "2.7749228944118753\n",
            "2.77426690435463\n",
            "2.7737982568054202\n",
            "2.7734623290108664\n",
            "2.7732208372481164\n",
            "2.7730468007419127\n",
            "2.7729211097930864\n",
            "2.772830169591406\n",
            "2.7727642709648466\n",
            "2.772716456218294\n",
            "2.772681724719296\n",
            "2.7726564733175607\n",
            "2.772638100182719\n",
            "2.7726247230741587\n",
            "2.7726149781963323\n",
            "2.7726078760936756\n",
            "2.7726026981019443\n",
            "2.772598921750947\n",
            "2.772596166906153\n",
            "2.772594156810891\n",
            "2.772592689862085\n",
            "2.772591619134907\n",
            "2.7725908375121535\n",
            "2.772590266873931\n",
            "2.77258985023278\n",
            "2.7725895460078944\n",
            "2.7725893238543304\n",
            "2.7725891616234954\n",
            "2.772589043147209\n",
            "2.7725889566216644\n",
            "2.772588893428574\n",
            "2.7725888472750255\n",
            "2.7725888135657737\n",
            "2.7725887889450855\n",
            "2.772588770962293\n",
            "2.77258875782763\n",
            "2.7725887482339595\n",
            "2.772588741226607\n",
            "2.772588736108304\n",
            "2.7725887323697793\n",
            "2.7725887296390637\n",
            "2.7725887276444707\n",
            "2.772588726187559\n",
            "2.7725887251233825\n",
            "2.7725887243460714\n",
            "2.7725887237782962\n",
            "2.7725887233635724\n",
            "2.7725887230606423\n",
            "2.772588722839371\n",
            "2.772588722677745\n",
            "2.772588722559688\n",
            "2.7725887224734542\n",
            "2.7725887224104655\n",
            "2.772588722364456\n",
            "2.7725887223308487\n",
            "2.772588722306301\n",
            "2.7725887222883703\n",
            "2.772588722275272\n",
            "2.7725887222657057\n",
            "2.772588722258717\n",
            "2.772588722253613\n",
            "2.7725887222498846\n",
            "2.772588722247161\n",
            "2.772588722245172\n",
            "2.7725887222437184\n",
            "2.7725887222426575\n",
            "2.7725887222418817\n",
            "2.7725887222413164\n",
            "2.772588722240902\n",
            "2.7725887222406\n",
            "2.772588722240379\n",
            "2.7725887222402177\n",
            "2.7725887222401004\n",
            "2.772588722240014\n",
            "2.7725887222399517\n",
            "2.7725887222399055\n",
            "2.7725887222398726\n",
            "2.7725887222398473\n",
            "2.7725887222398296\n",
            "2.7725887222398162\n",
            "2.7725887222398073\n",
            "2.7725887222398\n",
            "2.772588722239795\n",
            "2.772588722239792\n",
            "2.7725887222397883\n",
            "2.7725887222397865\n"
          ],
          "name": "stdout"
        }
      ]
    },
    {
      "cell_type": "markdown",
      "metadata": {
        "id": "7Q1vM1rxptAw",
        "colab_type": "text"
      },
      "source": [
        "### Model output plotting"
      ]
    },
    {
      "cell_type": "code",
      "metadata": {
        "id": "SplMaoVZptAx",
        "colab_type": "code",
        "outputId": "8bfbd7d4-6372-4497-dc85-587f0adb22f9",
        "colab": {
          "base_uri": "https://localhost:8080/",
          "height": 281
        }
      },
      "source": [
        "plt.plot(error_array)\n",
        "plt.title(\"Cross-entropy per iteration\")\n",
        "plt.show()"
      ],
      "execution_count": 0,
      "outputs": [
        {
          "output_type": "display_data",
          "data": {
            "image/png": "[encoded data removed]",
            "text/plain": [
              "<Figure size 432x288 with 1 Axes>"
            ]
          },
          "metadata": {
            "tags": []
          }
        }
      ]
    },
    {
      "cell_type": "markdown",
      "metadata": {
        "id": "ab6aKg3CptA1",
        "colab_type": "text"
      },
      "source": [
        "## Model Performance"
      ]
    },
    {
      "cell_type": "code",
      "metadata": {
        "id": "XEat6FsvptA2",
        "colab_type": "code",
        "outputId": "639a97b9-26cc-4d16-f078-db9ecd3f5365",
        "colab": {
          "base_uri": "https://localhost:8080/",
          "height": 51
        }
      },
      "source": [
        "print(\"Final weight:\", weight)\n",
        "print(\"Final classification rate:\", \n",
        "          1 - np.abs(output_array - np.round(Y_pred)).sum() / num_inputs)"
      ],
      "execution_count": 0,
      "outputs": [
        {
          "output_type": "stream",
          "text": [
            "Final weight: [ 1.43769485e-07 -1.21221053e-07 -1.21194521e-07]\n",
            "Final classification rate: 0.75\n"
          ],
          "name": "stdout"
        }
      ]
    },
    {
      "cell_type": "code",
      "metadata": {
        "id": "TyTFAKWEptA4",
        "colab_type": "code",
        "colab": {}
      },
      "source": [
        ""
      ],
      "execution_count": 0,
      "outputs": []
    }
  ]
}